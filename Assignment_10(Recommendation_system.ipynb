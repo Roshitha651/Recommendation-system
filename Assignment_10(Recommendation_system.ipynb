{
  "nbformat": 4,
  "nbformat_minor": 0,
  "metadata": {
    "colab": {
      "name": "Assignment_10(Recommendation_system.ipynb",
      "provenance": []
    },
    "kernelspec": {
      "name": "python3",
      "display_name": "Python 3"
    },
    "language_info": {
      "name": "python"
    }
  },
  "cells": [
    {
      "cell_type": "code",
      "execution_count": null,
      "metadata": {
        "id": "_tkvoxtA8QiW"
      },
      "outputs": [],
      "source": [
        "import pandas as pd\n",
        "import numpy as np\n",
        "from sklearn.metrics import pairwise_distances\n",
        "from scipy.spatial.distance import cosine,correlation"
      ]
    },
    {
      "cell_type": "code",
      "source": [
        "books=pd.read_csv('book.csv',encoding='Latin1')\n",
        "books"
      ],
      "metadata": {
        "id": "zsADA1Ke8dLe"
      },
      "execution_count": null,
      "outputs": []
    },
    {
      "cell_type": "code",
      "source": [
        "books2=books.iloc[:,1:]\n",
        "books2"
      ],
      "metadata": {
        "id": "cjQVyjAw8fbd"
      },
      "execution_count": null,
      "outputs": []
    },
    {
      "cell_type": "code",
      "source": [
        "books2.sort_values(['User.ID'])"
      ],
      "metadata": {
        "id": "MbJ_7v-k8iBu"
      },
      "execution_count": null,
      "outputs": []
    },
    {
      "cell_type": "code",
      "source": [
        "len(books2['User.ID'].unique())"
      ],
      "metadata": {
        "id": "WrjXXm7f8kkP"
      },
      "execution_count": null,
      "outputs": []
    },
    {
      "cell_type": "code",
      "source": [
        "len(books2['Book.Title'].unique())"
      ],
      "metadata": {
        "id": "le2lh2Qb8m0r"
      },
      "execution_count": null,
      "outputs": []
    },
    {
      "cell_type": "code",
      "source": [
        "books3=books2.pivot_table(index='User.ID',columns='Book.Title',values='Book.Rating').reset_index(drop=True)\n",
        "books3"
      ],
      "metadata": {
        "id": "ezUl9HJl8pDt"
      },
      "execution_count": null,
      "outputs": []
    },
    {
      "cell_type": "code",
      "source": [
        "books3.index=books2['User.ID'].unique()\n",
        "books3"
      ],
      "metadata": {
        "id": "1B4UjYb38rX2"
      },
      "execution_count": null,
      "outputs": []
    },
    {
      "cell_type": "code",
      "source": [
        "books3.fillna(0,inplace=True)\n",
        "books3"
      ],
      "metadata": {
        "id": "Cc2v2Kfq8uRZ"
      },
      "execution_count": null,
      "outputs": []
    },
    {
      "cell_type": "code",
      "source": [
        "user_sim=1-pairwise_distances(books3.values,metric='cosine')\n",
        "user_sim"
      ],
      "metadata": {
        "id": "D9_wWLb98xaT"
      },
      "execution_count": null,
      "outputs": []
    },
    {
      "cell_type": "code",
      "source": [
        "user_sim2=pd.DataFrame(user_sim)\n",
        "user_sim2"
      ],
      "metadata": {
        "id": "AplSMVIH8zpX"
      },
      "execution_count": null,
      "outputs": []
    },
    {
      "cell_type": "code",
      "source": [
        "user_sim2.index=books2['User.ID'].unique()\n",
        "user_sim2.columns=books2['User.ID'].unique()\n",
        "user_sim2"
      ],
      "metadata": {
        "id": "E48UsSn583P5"
      },
      "execution_count": null,
      "outputs": []
    },
    {
      "cell_type": "code",
      "source": [
        "np.fill_diagonal(user_sim,0)\n",
        "user_sim2\n"
      ],
      "metadata": {
        "id": "mbHeOh5s85X6"
      },
      "execution_count": null,
      "outputs": []
    },
    {
      "cell_type": "code",
      "source": [
        "user_sim2.idxmax(axis=1)"
      ],
      "metadata": {
        "id": "-rR7yryS87cz"
      },
      "execution_count": null,
      "outputs": []
    },
    {
      "cell_type": "code",
      "source": [
        "books2[(books2['User.ID']==162107) | (books2['User.ID']==276726)]"
      ],
      "metadata": {
        "id": "dv5jaD4V8-zs"
      },
      "execution_count": null,
      "outputs": []
    },
    {
      "cell_type": "code",
      "source": [
        "books2[(books2['User.ID']==276729) | (books2['User.ID']==276726)]"
      ],
      "metadata": {
        "id": "PxBP-o0a9BVp"
      },
      "execution_count": null,
      "outputs": []
    },
    {
      "cell_type": "code",
      "source": [
        "user_1=books2[(books2['User.ID']==276729)]\n",
        "user_2=books2[(books2['User.ID']==276726)]"
      ],
      "metadata": {
        "id": "87lPdDtf9EVT"
      },
      "execution_count": null,
      "outputs": []
    },
    {
      "cell_type": "code",
      "source": [
        "user_1['Book.Title']"
      ],
      "metadata": {
        "id": "yU9LBCn_9HBh"
      },
      "execution_count": null,
      "outputs": []
    },
    {
      "cell_type": "code",
      "source": [
        "user_1['Book.Title']"
      ],
      "metadata": {
        "id": "4BZcSKpK9JY5"
      },
      "execution_count": null,
      "outputs": []
    },
    {
      "cell_type": "code",
      "source": [
        "pd.merge(user_1,user_2,on='Book.Title',how='outer')"
      ],
      "metadata": {
        "id": "53ChvKgr9Lia"
      },
      "execution_count": null,
      "outputs": []
    },
    {
      "cell_type": "code",
      "source": [
        ""
      ],
      "metadata": {
        "id": "o-vQzGwk9Nq1"
      },
      "execution_count": null,
      "outputs": []
    }
  ]
}